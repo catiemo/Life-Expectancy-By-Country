{
 "cells": [
  {
   "cell_type": "markdown",
   "id": "f9c77ebf",
   "metadata": {},
   "source": [
    "### Importing packages"
   ]
  },
  {
   "cell_type": "code",
   "execution_count": 5,
   "id": "abf81eaf",
   "metadata": {},
   "outputs": [],
   "source": [
    "import numpy as np\n",
    "import pandas as pd\n",
    "import matplotlib.pyplot as plt"
   ]
  },
  {
   "cell_type": "markdown",
   "id": "14803304",
   "metadata": {},
   "source": [
    "### Reading csv file"
   ]
  },
  {
   "cell_type": "code",
   "execution_count": 6,
   "id": "7dd811d9",
   "metadata": {},
   "outputs": [
    {
     "data": {
      "text/html": [
       "<div>\n",
       "<style scoped>\n",
       "    .dataframe tbody tr th:only-of-type {\n",
       "        vertical-align: middle;\n",
       "    }\n",
       "\n",
       "    .dataframe tbody tr th {\n",
       "        vertical-align: top;\n",
       "    }\n",
       "\n",
       "    .dataframe thead th {\n",
       "        text-align: right;\n",
       "    }\n",
       "</style>\n",
       "<table border=\"1\" class=\"dataframe\">\n",
       "  <thead>\n",
       "    <tr style=\"text-align: right;\">\n",
       "      <th></th>\n",
       "      <th>Country</th>\n",
       "      <th>Life Expectancy</th>\n",
       "      <th>GDP</th>\n",
       "    </tr>\n",
       "  </thead>\n",
       "  <tbody>\n",
       "    <tr>\n",
       "      <th>0</th>\n",
       "      <td>Afghanistan</td>\n",
       "      <td>58.19375</td>\n",
       "      <td>340.015425</td>\n",
       "    </tr>\n",
       "    <tr>\n",
       "      <th>1</th>\n",
       "      <td>Albania</td>\n",
       "      <td>75.15625</td>\n",
       "      <td>2119.726679</td>\n",
       "    </tr>\n",
       "    <tr>\n",
       "      <th>2</th>\n",
       "      <td>Algeria</td>\n",
       "      <td>73.61875</td>\n",
       "      <td>2847.853392</td>\n",
       "    </tr>\n",
       "    <tr>\n",
       "      <th>3</th>\n",
       "      <td>Angola</td>\n",
       "      <td>49.01875</td>\n",
       "      <td>1975.143045</td>\n",
       "    </tr>\n",
       "    <tr>\n",
       "      <th>4</th>\n",
       "      <td>Antigua and Barbuda</td>\n",
       "      <td>75.05625</td>\n",
       "      <td>9759.305728</td>\n",
       "    </tr>\n",
       "  </tbody>\n",
       "</table>\n",
       "</div>"
      ],
      "text/plain": [
       "               Country  Life Expectancy          GDP\n",
       "0          Afghanistan         58.19375   340.015425\n",
       "1              Albania         75.15625  2119.726679\n",
       "2              Algeria         73.61875  2847.853392\n",
       "3               Angola         49.01875  1975.143045\n",
       "4  Antigua and Barbuda         75.05625  9759.305728"
      ]
     },
     "execution_count": 6,
     "metadata": {},
     "output_type": "execute_result"
    }
   ],
   "source": [
    "data = pd.read_csv(\"country_data.csv\")\n",
    "data.head()"
   ]
  },
  {
   "cell_type": "markdown",
   "id": "cc40e3c9",
   "metadata": {},
   "source": [
    "### Selecting Life Expectancy column"
   ]
  },
  {
   "cell_type": "code",
   "execution_count": 8,
   "id": "f2090283",
   "metadata": {},
   "outputs": [
    {
     "data": {
      "text/plain": [
       "0      58.19375\n",
       "1      75.15625\n",
       "2      73.61875\n",
       "3      49.01875\n",
       "4      75.05625\n",
       "         ...   \n",
       "153    76.07500\n",
       "154    68.03125\n",
       "155    71.38750\n",
       "156    53.90625\n",
       "157    50.48750\n",
       "Name: Life Expectancy, Length: 158, dtype: float64"
      ]
     },
     "execution_count": 8,
     "metadata": {},
     "output_type": "execute_result"
    }
   ],
   "source": [
    "life_expectancy = data['Life Expectancy']\n",
    "life_expectancy"
   ]
  },
  {
   "cell_type": "markdown",
   "id": "647b4c0d",
   "metadata": {},
   "source": [
    "### Finding life expectancy quartlies"
   ]
  },
  {
   "cell_type": "code",
   "execution_count": 9,
   "id": "e3aebd4c",
   "metadata": {},
   "outputs": [
    {
     "data": {
      "text/plain": [
       "array([62.325    , 72.525    , 75.4421875])"
      ]
     },
     "execution_count": 9,
     "metadata": {},
     "output_type": "execute_result"
    }
   ],
   "source": [
    "life_expectancy_quartiles = np.quantile(life_expectancy, [0.25, 0.5, 0.75])\n",
    "life_expectancy_quartiles"
   ]
  },
  {
   "cell_type": "markdown",
   "id": "846a91a8",
   "metadata": {},
   "source": [
    "### Histogram of Life Expectancy"
   ]
  },
  {
   "cell_type": "code",
   "execution_count": 11,
   "id": "ac01495d",
   "metadata": {},
   "outputs": [
    {
     "data": {
      "image/png": "[encoded data removed]",
      "text/plain": [
       "<Figure size 432x288 with 1 Axes>"
      ]
     },
     "metadata": {
      "needs_background": "light"
     },
     "output_type": "display_data"
    },
    {
     "data": {
      "text/plain": [
       "<Figure size 432x288 with 0 Axes>"
      ]
     },
     "metadata": {},
     "output_type": "display_data"
    }
   ],
   "source": [
    "plt.hist(life_expectancy)\n",
    "plt.xlabel('Life Expectancy')\n",
    "plt.ylabel('Counts')\n",
    "plt.title('Histogram of Life Expectancy of Countries')\n",
    "plt.show()\n",
    "plt.clf()"
   ]
  },
  {
   "cell_type": "markdown",
   "id": "af6a92ea",
   "metadata": {},
   "source": [
    "### Selecting GDP column"
   ]
  },
  {
   "cell_type": "code",
   "execution_count": 13,
   "id": "5ec60af6",
   "metadata": {},
   "outputs": [
    {
     "data": {
      "text/plain": [
       "0       340.015425\n",
       "1      2119.726679\n",
       "2      2847.853392\n",
       "3      1975.143045\n",
       "4      9759.305728\n",
       "          ...     \n",
       "153    7192.584875\n",
       "154     651.092359\n",
       "155    2000.245518\n",
       "156     811.811841\n",
       "157     410.980194\n",
       "Name: GDP, Length: 158, dtype: float64"
      ]
     },
     "execution_count": 13,
     "metadata": {},
     "output_type": "execute_result"
    }
   ],
   "source": [
    "gdp = data.GDP\n",
    "gdp"
   ]
  },
  {
   "cell_type": "markdown",
   "id": "59032d39",
   "metadata": {},
   "source": [
    "### Finding the median GDP"
   ]
  },
  {
   "cell_type": "code",
   "execution_count": 14,
   "id": "de18c242",
   "metadata": {},
   "outputs": [
    {
     "data": {
      "text/plain": [
       "2938.0781152500003"
      ]
     },
     "execution_count": 14,
     "metadata": {},
     "output_type": "execute_result"
    }
   ],
   "source": [
    "median_gdp = np.quantile(gdp, 0.5)\n",
    "median_gdp"
   ]
  },
  {
   "cell_type": "markdown",
   "id": "b2e4d63b",
   "metadata": {},
   "source": [
    "### Spliting data on GDP median"
   ]
  },
  {
   "cell_type": "code",
   "execution_count": 15,
   "id": "098d9723",
   "metadata": {},
   "outputs": [],
   "source": [
    "low_gdp = data[data.GDP <= median_gdp]\n",
    "high_gdp = data[data.GDP > median_gdp]"
   ]
  },
  {
   "cell_type": "markdown",
   "id": "336740db",
   "metadata": {},
   "source": [
    "### Finding quartlies of Low GDP"
   ]
  },
  {
   "cell_type": "code",
   "execution_count": 16,
   "id": "95f00f9f",
   "metadata": {},
   "outputs": [
    {
     "data": {
      "text/plain": [
       "array([56.3375 , 64.34375, 71.7375 ])"
      ]
     },
     "execution_count": 16,
     "metadata": {},
     "output_type": "execute_result"
    }
   ],
   "source": [
    "low_gdp_quartiles = np.quantile(low_gdp['Life Expectancy'], [0.25, 0.5, 0.75])\n",
    "low_gdp_quartiles"
   ]
  },
  {
   "cell_type": "markdown",
   "id": "5602ff27",
   "metadata": {},
   "source": [
    "### Finding quartlies of High GDP"
   ]
  },
  {
   "cell_type": "code",
   "execution_count": 17,
   "id": "73d0e264",
   "metadata": {},
   "outputs": [
    {
     "data": {
      "text/plain": [
       "array([72.965625, 75.15625 , 80.521875])"
      ]
     },
     "execution_count": 17,
     "metadata": {},
     "output_type": "execute_result"
    }
   ],
   "source": [
    "high_gdp_quartiles = np.quantile(high_gdp['Life Expectancy'], [0.25, 0.5, 0.75])\n",
    "high_gdp_quartiles"
   ]
  },
  {
   "cell_type": "markdown",
   "id": "628ad99f",
   "metadata": {},
   "source": [
    "### Histogram of Life Expectancy by High and Low GDP"
   ]
  },
  {
   "cell_type": "code",
   "execution_count": 18,
   "id": "6f9c28f6",
   "metadata": {},
   "outputs": [
    {
     "data": {
      "image/png": "[encoded data removed]",
      "text/plain": [
       "<Figure size 432x288 with 1 Axes>"
      ]
     },
     "metadata": {
      "needs_background": "light"
     },
     "output_type": "display_data"
    }
   ],
   "source": [
    "plt.hist(high_gdp[\"Life Expectancy\"], alpha = 0.5, label = \"High GDP\")\n",
    "plt.hist(low_gdp[\"Life Expectancy\"], alpha = 0.5, label = \"Low GDP\")\n",
    "plt.xlabel('Life Expectancy')\n",
    "plt.ylabel('Counts')\n",
    "plt.title('Histogram of Life Expectancy of Countries by High and Low GDP')\n",
    "plt.legend()\n",
    "plt.show()"
   ]
  },
  {
   "cell_type": "code",
   "execution_count": null,
   "id": "1d3433bc",
   "metadata": {},
   "outputs": [],
   "source": []
  }
 ],
 "metadata": {
  "kernelspec": {
   "display_name": "Python 3",
   "language": "python",
   "name": "python3"
  },
  "language_info": {
   "codemirror_mode": {
    "name": "ipython",
    "version": 3
   },
   "file_extension": ".py",
   "mimetype": "text/x-python",
   "name": "python",
   "nbconvert_exporter": "python",
   "pygments_lexer": "ipython3",
   "version": "3.8.8"
  }
 },
 "nbformat": 4,
 "nbformat_minor": 5
}
